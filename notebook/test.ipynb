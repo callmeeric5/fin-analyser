{
 "cells": [
  {
   "cell_type": "code",
   "execution_count": 1,
   "id": "7917efce",
   "metadata": {},
   "outputs": [
    {
     "name": "stdout",
     "output_type": "stream",
     "text": [
      "/Users/wangzihang/Downloads/Personal/fin-analyser\n"
     ]
    }
   ],
   "source": [
    "%cd .."
   ]
  },
  {
   "cell_type": "code",
   "execution_count": 2,
   "id": "8a10c3f7",
   "metadata": {},
   "outputs": [
    {
     "name": "stdout",
     "output_type": "stream",
     "text": [
      "\n",
      "image 1/1 /Users/wangzihang/Downloads/Personal/fin-analyser/data/test/images/20_png_jpg.rf.781c713f59deb4dec5da2da13af356d4.jpg: 640x640 1 ADDRESS, 1 FPRICE, 1 PRODUCTS, 1 TAX, 1 TPRICE, 9.3ms\n",
      "Speed: 6.6ms preprocess, 9.3ms inference, 71.7ms postprocess per image at shape (1, 3, 640, 640)\n"
     ]
    }
   ],
   "source": [
    "from ultralytics import YOLO\n",
    "\n",
    "# path to your checkpoint\n",
    "best_path = \"model/best.pt\"\n",
    "# this will load both the model architecture and the trained weights\n",
    "model = YOLO(best_path)\n",
    "\n",
    "# now you can run inference:\n",
    "results = model.predict(\n",
    "    source=\"data/test/images/20_png_jpg.rf.781c713f59deb4dec5da2da13af356d4.jpg\",\n",
    "    show=True,\n",
    "    conf=0.4,\n",
    "    save=False,\n",
    "    device=\"mps\",\n",
    ")"
   ]
  },
  {
   "cell_type": "code",
   "execution_count": null,
   "id": "efa0873a",
   "metadata": {},
   "outputs": [],
   "source": []
  }
 ],
 "metadata": {
  "kernelspec": {
   "display_name": ".venv",
   "language": "python",
   "name": "python3"
  },
  "language_info": {
   "codemirror_mode": {
    "name": "ipython",
    "version": 3
   },
   "file_extension": ".py",
   "mimetype": "text/x-python",
   "name": "python",
   "nbconvert_exporter": "python",
   "pygments_lexer": "ipython3",
   "version": "3.12.11"
  }
 },
 "nbformat": 4,
 "nbformat_minor": 5
}
